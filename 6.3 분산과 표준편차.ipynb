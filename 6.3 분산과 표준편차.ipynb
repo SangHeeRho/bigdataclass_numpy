{
 "metadata": {
  "language_info": {
   "codemirror_mode": {
    "name": "ipython",
    "version": 3
   },
   "file_extension": ".py",
   "mimetype": "text/x-python",
   "name": "python",
   "nbconvert_exporter": "python",
   "pygments_lexer": "ipython3",
   "version": "3.6.5"
  },
  "orig_nbformat": 4,
  "kernelspec": {
   "name": "python3",
   "display_name": "Python 3.6.5 64-bit ('base': conda)"
  },
  "interpreter": {
   "hash": "e55bb66ab1794c2910d7df6756168b78814621a9f8b3b83bebdd00d3ee78f4c3"
  }
 },
 "nbformat": 4,
 "nbformat_minor": 2,
 "cells": [
  {
   "cell_type": "code",
   "execution_count": 1,
   "metadata": {},
   "outputs": [
    {
     "output_type": "stream",
     "name": "stdout",
     "text": [
      "62.5\n2.5\n"
     ]
    }
   ],
   "source": [
    "#분산\n",
    "import numpy as np\n",
    "\n",
    "x_1 = np.array([55,45,60,40])\n",
    "x_2 = np.array([51,49,52,48])\n",
    "\n",
    "print(np.var(x_1))\n",
    "print(np.var(x_2))"
   ]
  },
  {
   "cell_type": "code",
   "execution_count": 2,
   "metadata": {},
   "outputs": [
    {
     "output_type": "stream",
     "name": "stdout",
     "text": [
      "7.905694150420948\n1.5811388300841898\n"
     ]
    }
   ],
   "source": [
    "#표준편차\n",
    "import numpy as np\n",
    "\n",
    "x_1 = np.array([55,45,60,40])\n",
    "x_2 = np.array([51,49,52,48])\n",
    "\n",
    "print(np.std(x_1))\n",
    "print(np.std(x_2))"
   ]
  },
  {
   "cell_type": "code",
   "execution_count": 3,
   "metadata": {},
   "outputs": [
    {
     "output_type": "stream",
     "name": "stdout",
     "text": [
      "2.5\n1.5811388300841898\n"
     ]
    }
   ],
   "source": [
    "import numpy as np\n",
    "\n",
    "x = np.array([51,49,52,48])\n",
    "\n",
    "print(np.var(x))\n",
    "print(np.std(x))"
   ]
  },
  {
   "cell_type": "code",
   "execution_count": null,
   "metadata": {},
   "outputs": [],
   "source": []
  }
 ]
}